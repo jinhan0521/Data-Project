{
 "cells": [
  {
   "cell_type": "code",
   "execution_count": 59,
   "id": "c18c6a07",
   "metadata": {},
   "outputs": [],
   "source": [
    "driver_path = 'C:\\\\Users\\\\USER\\\\chromedriver-win64\\\\chromedriver.exe'\n",
    "\n",
    "my_id = 1\n",
    "password = 1\n",
    "\n",
    "search_id = 1"
   ]
  },
  {
   "cell_type": "code",
   "execution_count": 60,
   "id": "c8c669cd",
   "metadata": {},
   "outputs": [],
   "source": [
    "import time\n",
    "from selenium import webdriver"
   ]
  },
  {
   "cell_type": "code",
   "execution_count": 68,
   "id": "78f36913",
   "metadata": {},
   "outputs": [],
   "source": [
    "driver = webdriver.Chrome(driver_path)\n",
    "driver.implicitly_wait(5)\n",
    "\n",
    "#인스타그램 접속\n",
    "driver.get('https://www.instagram.com/')\n",
    "driver.maximize_window()\n",
    "\n",
    "#로그인\n",
    "driver.find_element_by_css_selector('input[aria-label=\"전화번호, 사용자 이름 또는 이메일\"]').send_keys(my_id)\n",
    "driver.find_element_by_css_selector('input[aria-label=\"비밀번호\"]').send_keys(password)\n",
    "driver.find_element_by_css_selector('._acan._acap._acas._aj1-._ap30').click()\n",
    "time.sleep(7)\n",
    "\n",
    "#로그인정보 저장안함\n",
    "driver.find_element_by_css_selector('.x1i10hfl.xjqpnuy.xa49m3k.xqeqjp1.x2hbi6w.xdl72j9.x2lah0s.xe8uvvx.xdj266r.x11i5rnm.xat24cr.x1mh8g0r.x2lwn1j.xeuugli.x1hl2dhg.xggy1nq.x1ja2u2z.x1t137rt.x1q0g3np.x1lku1pv.x1a2a7pz.x6s0dn4.xjyslct.x1ejq31n.xd10rxx.x1sy0etr.x17r0tee.x9f619.x1ypdohk.x1f6kntn.xwhw2v2.xl56j7k.x17ydfre.x2b8uid.xlyipyv.x87ps6o.x14atkfc.xcdnw81.x1i0vuye.xjbqb8w.xm3z3ea.x1x8b98j.x131883w.x16mih1h.x972fbf.xcfux6l.x1qhh985.xm0m39n.xt0psk2.xt7dq6l.xexx8yu.x4uap5.x18d9i69.xkhd6sd.x1n2onr6.x1n5bzlp.x173jzuc.x1yc6y37').click()\n",
    "\n",
    "#팔로우,좋아요 나중에 하기\n",
    "driver.find_element_by_css_selector('._a9--._ap36._a9_1').click()\n",
    "\n",
    "#검색 클릭\n",
    "driver.find_elements_by_css_selector('.x9f619.xxk0z11.xii2z7h.x11xpdln.x19c4wfv.xvy4d1p')[1].click()\n",
    "time.sleep(3)\n",
    "\n",
    "#찾고자하는 id 검색\n",
    "driver.find_element_by_css_selector('input[aria-label=\"입력 검색\"]').send_keys(search_id)\n",
    "time.sleep(5)\n",
    "\n",
    "#검색 후 가장 처음 있는 아이디 클릭\n",
    "driver.find_elements_by_css_selector('.x9f619.xjbqb8w.x78zum5.x168nmei.x13lgxp2.x5pf9jr.xo71vjh.xxbr6pl.xbbxn1n.xwib8y2.x1y1aw1k.x1uhb9sk.x1plvlek.xryxfnj.x1c4vz4f.x2lah0s.xdt5ytf.xqjyukv.x1qjc9v5.x1oa3qoh.x1nhvcw1')[0].click()\n",
    "\n",
    "#팔로워 창 열기\n",
    "driver.find_elements_by_css_selector('.x1i10hfl.xjbqb8w.x6umtig.x1b1mbwd.xaqea5y.xav7gou.x9f619.x1ypdohk.xt0psk2.xe8uvvx.xdj266r.x11i5rnm.xat24cr.x1mh8g0r.xexx8yu.x4uap5.x18d9i69.xkhd6sd.x16tdsg8.x1hl2dhg.xggy1nq.x1a2a7pz._alvs._a6hd')[0].click()\n",
    "time.sleep(5)\n",
    "\n",
    "#끝까지 스크롤하기\n",
    "last_height = driver.execute_script('return document.querySelector(\"._aano\").scrollHeight')\n",
    "\n",
    "while True:\n",
    "    driver.execute_script('document.querySelector(\"._aano\").scrollTo(0, document.querySelector(\"._aano\").scrollHeight)')\n",
    "    time.sleep(6)\n",
    "    new_height = driver.execute_script('return document.querySelector(\"._aano\").scrollHeight')\n",
    "    if new_height == last_height:\n",
    "        break\n",
    "    last_height = new_height\n",
    "\n",
    "#팔로워 리스트에 팔로워 담기\n",
    "follower_list = []\n",
    "for name in driver.find_elements_by_css_selector('._ap3a._aaco._aacw._aacx._aad7._aade'):\n",
    "        follower_list.append(name.text)\n",
    "\n",
    "#닫기\n",
    "driver.find_element_by_css_selector('button._abl-').click()\n",
    "\n",
    "\n",
    "#팔로잉 창 열기\n",
    "driver.find_elements_by_css_selector('.x1i10hfl.xjbqb8w.x6umtig.x1b1mbwd.xaqea5y.xav7gou.x9f619.x1ypdohk.xt0psk2.xe8uvvx.xdj266r.x11i5rnm.xat24cr.x1mh8g0r.xexx8yu.x4uap5.x18d9i69.xkhd6sd.x16tdsg8.x1hl2dhg.xggy1nq.x1a2a7pz._alvs._a6hd')[1].click()\n",
    "time.sleep(5)\n",
    "\n",
    "#끝까지 스크롤하기\n",
    "last_height = driver.execute_script('return document.querySelector(\"._aano\").scrollHeight')\n",
    "\n",
    "while True:\n",
    "    driver.execute_script('document.querySelector(\"._aano\").scrollTo(0, document.querySelector(\"._aano\").scrollHeight)')\n",
    "    time.sleep(6)\n",
    "    new_height = driver.execute_script('return document.querySelector(\"._aano\").scrollHeight')\n",
    "    if new_height == last_height:\n",
    "        break\n",
    "    last_height = new_height\n",
    "\n",
    "#팔로잉 리스트에 팔로잉 담기\n",
    "following_list = []\n",
    "for name in driver.find_elements_by_css_selector('._ap3a._aaco._aacw._aacx._aad7._aade'):\n",
    "    following_list.append(name.text)\n",
    "    time.sleep\n",
    "\n",
    "driver.quit()"
   ]
  },
  {
   "cell_type": "code",
   "execution_count": 1,
   "id": "08295581",
   "metadata": {},
   "outputs": [],
   "source": [
    "# print(len(follower_list))\n",
    "# print(len(following_list))\n",
    "\n",
    "# for following in following_list:\n",
    "#     if following not in follower_list:\n",
    "#         print(f\"나는 팔로우 하는데 나를 팔로우하지 않는 사람은 {following}입니다\")"
   ]
  },
  {
   "cell_type": "code",
   "execution_count": null,
   "id": "55d00f2a",
   "metadata": {},
   "outputs": [],
   "source": []
  }
 ],
 "metadata": {
  "kernelspec": {
   "display_name": "Python 3 (ipykernel)",
   "language": "python",
   "name": "python3"
  },
  "language_info": {
   "codemirror_mode": {
    "name": "ipython",
    "version": 3
   },
   "file_extension": ".py",
   "mimetype": "text/x-python",
   "name": "python",
   "nbconvert_exporter": "python",
   "pygments_lexer": "ipython3",
   "version": "3.9.12"
  }
 },
 "nbformat": 4,
 "nbformat_minor": 5
}
